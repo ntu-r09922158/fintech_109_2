{
  "nbformat": 4,
  "nbformat_minor": 0,
  "metadata": {
    "colab": {
      "name": "Model.ipynb",
      "provenance": [],
      "collapsed_sections": [
        "A8gLx3UCk25B"
      ]
    },
    "kernelspec": {
      "name": "python3",
      "display_name": "Python 3"
    },
    "language_info": {
      "name": "python"
    }
  },
  "cells": [
    {
      "cell_type": "markdown",
      "metadata": {
        "id": "90FdkI6_lAa9"
      },
      "source": [
        "## 讀取資料集"
      ]
    },
    {
      "cell_type": "code",
      "metadata": {
        "colab": {
          "base_uri": "https://localhost:8080/"
        },
        "id": "FJ6irL5om4XX",
        "outputId": "90ac361e-84fc-4ec2-dd3b-5999c8438f46"
      },
      "source": [
        "from google.colab import drive\n",
        "drive.mount('/content/drive')"
      ],
      "execution_count": null,
      "outputs": [
        {
          "output_type": "stream",
          "text": [
            "Mounted at /content/drive\n"
          ],
          "name": "stdout"
        }
      ]
    },
    {
      "cell_type": "markdown",
      "metadata": {
        "id": "r9OS9nbIndIm"
      },
      "source": [
        "original : (1141340, 23) (380447, 23)\n",
        "<br>dropNA : (1131935, 32) (377271, 32)"
      ]
    },
    {
      "cell_type": "code",
      "metadata": {
        "id": "2lYzjVGAV0Ui"
      },
      "source": [
        "import pandas as pd\n",
        "\n",
        "train = pd.read_csv('/content/drive/MyDrive/Colab Notebooks/train_cleaned.csv')\n",
        "test = pd.read_csv('/content/drive/MyDrive/Colab Notebooks/test_cleaned.csv')\n",
        "\n",
        "objList = ['flbmk', 'flg_3dsmk']\n",
        "for obj in objList:\n",
        "  test[obj] = (test[obj]=='Y').astype(int)\n",
        "\n",
        "print(train.shape, test.shape)\n",
        "print(test.dtypes)"
      ],
      "execution_count": null,
      "outputs": []
    },
    {
      "cell_type": "code",
      "metadata": {
        "colab": {
          "base_uri": "https://localhost:8080/"
        },
        "id": "jpmOxyT_gqQB",
        "outputId": "e40837bd-6a9c-4eb8-913e-f6914d12e59c"
      },
      "source": [
        "# drop features\n",
        "train = train.drop(columns=['conam_log', 'conam_stz','txkey'])\n",
        "test = test.drop(columns=['conam_log', 'conam_stz','txkey'])\n",
        "\n",
        "print(train.shape, test.shape)\n",
        "test.columns"
      ],
      "execution_count": null,
      "outputs": [
        {
          "output_type": "stream",
          "text": [
            "(1131935, 29) (377271, 29)\n"
          ],
          "name": "stdout"
        },
        {
          "output_type": "execute_result",
          "data": {
            "text/plain": [
              "Index(['acqic', 'bacno', 'cano', 'conam', 'contp', 'csmcu', 'ecfg', 'etymd',\n",
              "       'flbmk', 'flg_3dsmk', 'fraud_ind', 'hcefg', 'insfg', 'iterm', 'locdt',\n",
              "       'loctm', 'mcc', 'mchno', 'ovrlt', 'scity', 'stocn', 'stscd',\n",
              "       'loctm_hour', 'loctm_morning', 'loctm_afternoon', 'loctm_night',\n",
              "       'freq_cano', 'freq_bacno', 'conam_equal0'],\n",
              "      dtype='object')"
            ]
          },
          "metadata": {
            "tags": []
          },
          "execution_count": 42
        }
      ]
    },
    {
      "cell_type": "code",
      "metadata": {
        "colab": {
          "base_uri": "https://localhost:8080/"
        },
        "id": "Coak8Ehcgt0O",
        "outputId": "2fd0ee34-83de-4f82-fa98-0c529c024638"
      },
      "source": [
        "# separate X (feature) and y (label) for training data\n",
        "y_train = train['fraud_ind']\n",
        "X_train = train.drop(columns=['fraud_ind'])\n",
        "\n",
        "# separate X (feature) and y (label) for test data\n",
        "y_test = test['fraud_ind']\n",
        "X_test = test.drop(columns=['fraud_ind'])\n",
        "\n",
        "print(X_train.shape, y_train.shape, X_test.shape, y_test.shape)"
      ],
      "execution_count": null,
      "outputs": [
        {
          "output_type": "stream",
          "text": [
            "(1131935, 28) (1131935,) (377271, 28) (377271,)\n"
          ],
          "name": "stdout"
        }
      ]
    },
    {
      "cell_type": "markdown",
      "metadata": {
        "id": "ZJ5QvozMg2PS"
      },
      "source": [
        "## SMOTE + RFC"
      ]
    },
    {
      "cell_type": "code",
      "metadata": {
        "colab": {
          "base_uri": "https://localhost:8080/"
        },
        "id": "N4Jw7m0bg1ZN",
        "outputId": "b69bcb61-c4c0-4cda-fa1f-97296414b4ea"
      },
      "source": [
        "# method 1 --> SMOTE\n",
        "# 對樣本少的類別進行 Oversampling ，使正、反例為 1:1\n",
        "from imblearn.over_sampling import SMOTE\n",
        "\n",
        "sm = SMOTE(sampling_strategy='minority', random_state=238)\n",
        "over_X_train, over_y_train = sm.fit_sample(X_train, y_train)\n",
        "print()\n",
        "print(\"Data size before SMOTE : \", X_train.shape, \"Data size after SMOTE : \", over_X_train.shape)"
      ],
      "execution_count": null,
      "outputs": [
        {
          "output_type": "stream",
          "text": [
            "/usr/local/lib/python3.7/dist-packages/sklearn/utils/deprecation.py:87: FutureWarning: Function safe_indexing is deprecated; safe_indexing is deprecated in version 0.22 and will be removed in version 0.24.\n",
            "  warnings.warn(msg, category=FutureWarning)\n"
          ],
          "name": "stderr"
        },
        {
          "output_type": "stream",
          "text": [
            "\n",
            "Data size before SMOTE :  (1131935, 31) Data size after SMOTE :  (2233616, 31)\n"
          ],
          "name": "stdout"
        }
      ]
    },
    {
      "cell_type": "code",
      "metadata": {
        "colab": {
          "base_uri": "https://localhost:8080/"
        },
        "id": "ODRPv-Vyih4b",
        "outputId": "6a08add0-5014-4cc3-9807-c1e14a32a7ae"
      },
      "source": [
        "# 模型訓練 - 隨機森林 : Bagging + Decision tree\n",
        "from sklearn.ensemble import RandomForestClassifier\n",
        "\n",
        "rfc = RandomForestClassifier(n_estimators=20, max_depth=4)\n",
        "rfc.fit(over_X_train, over_y_train)"
      ],
      "execution_count": null,
      "outputs": [
        {
          "output_type": "execute_result",
          "data": {
            "text/plain": [
              "RandomForestClassifier(bootstrap=True, ccp_alpha=0.0, class_weight=None,\n",
              "                       criterion='gini', max_depth=4, max_features='auto',\n",
              "                       max_leaf_nodes=None, max_samples=None,\n",
              "                       min_impurity_decrease=0.0, min_impurity_split=None,\n",
              "                       min_samples_leaf=1, min_samples_split=2,\n",
              "                       min_weight_fraction_leaf=0.0, n_estimators=20,\n",
              "                       n_jobs=None, oob_score=False, random_state=None,\n",
              "                       verbose=0, warm_start=False)"
            ]
          },
          "metadata": {
            "tags": []
          },
          "execution_count": 81
        }
      ]
    },
    {
      "cell_type": "code",
      "metadata": {
        "colab": {
          "base_uri": "https://localhost:8080/"
        },
        "id": "qeLWTla5iqlw",
        "outputId": "70a168df-bcf2-47b7-955b-6f4549f459df"
      },
      "source": [
        "# 模型測試，輸出結果\n",
        "from sklearn.metrics import roc_auc_score, classification_report\n",
        "\n",
        "y_pred_rfc = rfc.predict(X_test)\n",
        "print('auc:', roc_auc_score(y_test, y_pred_rfc))\n",
        "\n",
        "print(classification_report(y_test, y_pred_rfc))"
      ],
      "execution_count": null,
      "outputs": [
        {
          "output_type": "stream",
          "text": [
            "auc: 0.8408938630963141\n",
            "              precision    recall  f1-score   support\n",
            "\n",
            "           0       1.00      0.96      0.98    372238\n",
            "           1       0.19      0.72      0.30      5033\n",
            "\n",
            "    accuracy                           0.95    377271\n",
            "   macro avg       0.59      0.84      0.64    377271\n",
            "weighted avg       0.99      0.95      0.97    377271\n",
            "\n"
          ],
          "name": "stdout"
        }
      ]
    },
    {
      "cell_type": "code",
      "metadata": {
        "colab": {
          "base_uri": "https://localhost:8080/",
          "height": 337
        },
        "id": "AwZvnKn4ixih",
        "outputId": "271f56cd-ab95-419f-a416-dccb08d632e4"
      },
      "source": [
        "# 混淆矩陣視覺化\n",
        "import seaborn as sns\n",
        "from sklearn.metrics import plot_confusion_matrix\n",
        "\n",
        "sns.set_context(\"poster\")\n",
        "\n",
        "disp = plot_confusion_matrix(rfc, X_test, y_test)\n",
        "_ = disp.ax_.set_title(\"Random Forest\")"
      ],
      "execution_count": null,
      "outputs": [
        {
          "output_type": "display_data",
          "data": {
            "image/png": "[encoded data removed]",
            "text/plain": [
              "<Figure size 432x288 with 2 Axes>"
            ]
          },
          "metadata": {
            "tags": [],
            "needs_background": "light"
          }
        }
      ]
    },
    {
      "cell_type": "markdown",
      "metadata": {
        "id": "C1qLBiRsjqh7"
      },
      "source": [
        "## BBC"
      ]
    },
    {
      "cell_type": "code",
      "metadata": {
        "colab": {
          "base_uri": "https://localhost:8080/"
        },
        "id": "tPpNUu4Wjpzs",
        "outputId": "2ccf4bcd-4bcf-4bb0-a5b3-a333cc02b852"
      },
      "source": [
        "# method 2 --> BalancedBaggingClassifier\n",
        "# 訓練一個分類器來處理類別不平衡問題，而不必在訓練前手動進行欠採樣或過採樣\n",
        "# Under-sample the majority class(es) by randomly picking samples with or without replacement.\n",
        "\n",
        "from imblearn.ensemble import BalancedBaggingClassifier\n",
        "from sklearn.tree import DecisionTreeClassifier\n",
        "\n",
        "bbc = BalancedBaggingClassifier(base_estimator=DecisionTreeClassifier(max_features='auto'),\n",
        "                                replacement=True,\n",
        "                                bootstrap_features=True) \n",
        "# 訓練測試\n",
        "bbc.fit(X_train, y_train)"
      ],
      "execution_count": null,
      "outputs": [
        {
          "output_type": "stream",
          "text": [
            "/usr/local/lib/python3.7/dist-packages/sklearn/utils/deprecation.py:87: FutureWarning: Function safe_indexing is deprecated; safe_indexing is deprecated in version 0.22 and will be removed in version 0.24.\n",
            "  warnings.warn(msg, category=FutureWarning)\n",
            "/usr/local/lib/python3.7/dist-packages/sklearn/utils/deprecation.py:87: FutureWarning: Function safe_indexing is deprecated; safe_indexing is deprecated in version 0.22 and will be removed in version 0.24.\n",
            "  warnings.warn(msg, category=FutureWarning)\n",
            "/usr/local/lib/python3.7/dist-packages/sklearn/utils/deprecation.py:87: FutureWarning: Function safe_indexing is deprecated; safe_indexing is deprecated in version 0.22 and will be removed in version 0.24.\n",
            "  warnings.warn(msg, category=FutureWarning)\n",
            "/usr/local/lib/python3.7/dist-packages/sklearn/utils/deprecation.py:87: FutureWarning: Function safe_indexing is deprecated; safe_indexing is deprecated in version 0.22 and will be removed in version 0.24.\n",
            "  warnings.warn(msg, category=FutureWarning)\n",
            "/usr/local/lib/python3.7/dist-packages/sklearn/utils/deprecation.py:87: FutureWarning: Function safe_indexing is deprecated; safe_indexing is deprecated in version 0.22 and will be removed in version 0.24.\n",
            "  warnings.warn(msg, category=FutureWarning)\n",
            "/usr/local/lib/python3.7/dist-packages/sklearn/utils/deprecation.py:87: FutureWarning: Function safe_indexing is deprecated; safe_indexing is deprecated in version 0.22 and will be removed in version 0.24.\n",
            "  warnings.warn(msg, category=FutureWarning)\n",
            "/usr/local/lib/python3.7/dist-packages/sklearn/utils/deprecation.py:87: FutureWarning: Function safe_indexing is deprecated; safe_indexing is deprecated in version 0.22 and will be removed in version 0.24.\n",
            "  warnings.warn(msg, category=FutureWarning)\n",
            "/usr/local/lib/python3.7/dist-packages/sklearn/utils/deprecation.py:87: FutureWarning: Function safe_indexing is deprecated; safe_indexing is deprecated in version 0.22 and will be removed in version 0.24.\n",
            "  warnings.warn(msg, category=FutureWarning)\n",
            "/usr/local/lib/python3.7/dist-packages/sklearn/utils/deprecation.py:87: FutureWarning: Function safe_indexing is deprecated; safe_indexing is deprecated in version 0.22 and will be removed in version 0.24.\n",
            "  warnings.warn(msg, category=FutureWarning)\n",
            "/usr/local/lib/python3.7/dist-packages/sklearn/utils/deprecation.py:87: FutureWarning: Function safe_indexing is deprecated; safe_indexing is deprecated in version 0.22 and will be removed in version 0.24.\n",
            "  warnings.warn(msg, category=FutureWarning)\n"
          ],
          "name": "stderr"
        },
        {
          "output_type": "execute_result",
          "data": {
            "text/plain": [
              "BalancedBaggingClassifier(base_estimator=DecisionTreeClassifier(ccp_alpha=0.0,\n",
              "                                                                class_weight=None,\n",
              "                                                                criterion='gini',\n",
              "                                                                max_depth=None,\n",
              "                                                                max_features='auto',\n",
              "                                                                max_leaf_nodes=None,\n",
              "                                                                min_impurity_decrease=0.0,\n",
              "                                                                min_impurity_split=None,\n",
              "                                                                min_samples_leaf=1,\n",
              "                                                                min_samples_split=2,\n",
              "                                                                min_weight_fraction_leaf=0.0,\n",
              "                                                                presort='deprecated',\n",
              "                                                                random_state=None,\n",
              "                                                                splitter='best'),\n",
              "                          bootstrap=True, bootstrap_features=True,\n",
              "                          max_features=1.0, max_samples=1.0, n_estimators=10,\n",
              "                          n_jobs=1, oob_score=False, random_state=None,\n",
              "                          ratio=None, replacement=True,\n",
              "                          sampling_strategy='auto', verbose=0,\n",
              "                          warm_start=False)"
            ]
          },
          "metadata": {
            "tags": []
          },
          "execution_count": 47
        }
      ]
    },
    {
      "cell_type": "code",
      "metadata": {
        "colab": {
          "base_uri": "https://localhost:8080/"
        },
        "id": "6MSs097zxvyx",
        "outputId": "89fe84bd-d1c3-4712-9c68-e0526dad6585"
      },
      "source": [
        "print(X_train.shape, X_test.shape)"
      ],
      "execution_count": null,
      "outputs": [
        {
          "output_type": "stream",
          "text": [
            "(1131935, 29) (377271, 29)\n"
          ],
          "name": "stdout"
        }
      ]
    },
    {
      "cell_type": "code",
      "metadata": {
        "colab": {
          "base_uri": "https://localhost:8080/"
        },
        "id": "zt8uCt4Dkkj4",
        "outputId": "50bb7cf4-0223-406e-8c60-91f50bb2b77e"
      },
      "source": [
        "# 模型測試，輸出結果\n",
        "from sklearn.metrics import roc_auc_score\n",
        "from sklearn.metrics import classification_report\n",
        "\n",
        "y_pred = bbc.predict(X_test)\n",
        "print('auc:', roc_auc_score(y_test, y_pred))\n",
        "\n",
        "print(classification_report(y_test, y_pred))"
      ],
      "execution_count": null,
      "outputs": [
        {
          "output_type": "stream",
          "text": [
            "auc: 0.9042556125792616\n",
            "              precision    recall  f1-score   support\n",
            "\n",
            "           0       1.00      0.97      0.99    372238\n",
            "           1       0.30      0.84      0.44      5033\n",
            "\n",
            "    accuracy                           0.97    377271\n",
            "   macro avg       0.65      0.90      0.71    377271\n",
            "weighted avg       0.99      0.97      0.98    377271\n",
            "\n"
          ],
          "name": "stdout"
        }
      ]
    },
    {
      "cell_type": "code",
      "metadata": {
        "colab": {
          "base_uri": "https://localhost:8080/",
          "height": 337
        },
        "id": "Ry_hN9i0kx-y",
        "outputId": "dd6b8e3b-68d7-4c52-db73-50814e67cf1a"
      },
      "source": [
        "# 混淆矩陣視覺化\n",
        "import seaborn as sns\n",
        "from sklearn.metrics import plot_confusion_matrix\n",
        "\n",
        "sns.set_context(\"poster\")\n",
        "\n",
        "disp = plot_confusion_matrix(bbc, X_test, y_test)\n",
        "_ = disp.ax_.set_title(\"Balanced Bagging\")"
      ],
      "execution_count": null,
      "outputs": [
        {
          "output_type": "display_data",
          "data": {
            "image/png": "[encoded data removed]",
            "text/plain": [
              "<Figure size 432x288 with 2 Axes>"
            ]
          },
          "metadata": {
            "tags": [],
            "needs_background": "light"
          }
        }
      ]
    },
    {
      "cell_type": "markdown",
      "metadata": {
        "id": "TVLYgtNzlVF-"
      },
      "source": [
        "## 實驗成果視覺化"
      ]
    },
    {
      "cell_type": "code",
      "metadata": {
        "colab": {
          "base_uri": "https://localhost:8080/",
          "height": 346
        },
        "id": "J6QETC4alZkl",
        "outputId": "6cc9d9f1-a176-4727-c2b9-470b2ebef8f1"
      },
      "source": [
        "# 混淆矩陣視覺化\n",
        "import matplotlib.pyplot as plt\n",
        "from sklearn.metrics import plot_confusion_matrix\n",
        "\n",
        "titles_options = [#(rfc,\" SMOTE + Random Forest\", 'true'),\n",
        "                  (bbc,\"Balanced Bagging Classifier\", 'true')]\n",
        "for model, title, normalize in titles_options:\n",
        "    disp = plot_confusion_matrix(model, X_test, y_test,\n",
        "                                 cmap=plt.cm.Blues,\n",
        "                                 normalize=normalize)\n",
        "    disp.ax_.set_title(title)\n",
        "\n",
        "    print(title)\n",
        "    print(disp.confusion_matrix)\n",
        "\n",
        "plt.show()"
      ],
      "execution_count": null,
      "outputs": [
        {
          "output_type": "stream",
          "text": [
            "Balanced Bagging Classifier\n",
            "[[0.97322412 0.02677588]\n",
            " [0.16471289 0.83528711]]\n"
          ],
          "name": "stdout"
        },
        {
          "output_type": "display_data",
          "data": {
            "image/png": "[encoded data removed]",
            "text/plain": [
              "<Figure size 432x288 with 2 Axes>"
            ]
          },
          "metadata": {
            "tags": [],
            "needs_background": "light"
          }
        }
      ]
    },
    {
      "cell_type": "code",
      "metadata": {
        "colab": {
          "base_uri": "https://localhost:8080/",
          "height": 279
        },
        "id": "PFZCvt4Jljik",
        "outputId": "cd9cf772-b5b9-45d7-d9e2-facf9dba9b2a"
      },
      "source": [
        "# 繪製 ROC 曲線\n",
        "import matplotlib.pyplot as plt\n",
        "from sklearn import metrics\n",
        "\n",
        "#metrics.plot_roc_curve(rfc, X_test, y_test)\n",
        "metrics.plot_roc_curve(bbc, X_test, y_test)\n",
        "plt.show()"
      ],
      "execution_count": null,
      "outputs": [
        {
          "output_type": "display_data",
          "data": {
            "image/png": "[encoded data removed]",
            "text/plain": [
              "<Figure size 432x288 with 1 Axes>"
            ]
          },
          "metadata": {
            "tags": [],
            "needs_background": "light"
          }
        }
      ]
    },
    {
      "cell_type": "markdown",
      "metadata": {
        "id": "DzIfTfM301N9"
      },
      "source": [
        "## 輸出檔案 --> 錯誤案例分析"
      ]
    },
    {
      "cell_type": "code",
      "metadata": {
        "colab": {
          "base_uri": "https://localhost:8080/"
        },
        "id": "vy2_OYTxujiF",
        "outputId": "2bb079e6-3930-476d-830c-ef23aa6f1c9c"
      },
      "source": [
        "result = X_test.copy()\n",
        "print(result.shape)\n",
        "\n",
        "result['fraud_ind'] = y_test\n",
        "print(result.shape)\n",
        "\n",
        "result['predict'] = y_pred\n",
        "print(result.shape)\n",
        "\n",
        "result.to_csv('/content/drive/MyDrive/Colab Notebooks/test_withPred.csv',index=False)"
      ],
      "execution_count": null,
      "outputs": [
        {
          "output_type": "stream",
          "text": [
            "362271 9967 829 4204\n",
            "(377271, 28)\n",
            "(377271, 29)\n",
            "(377271, 30)\n"
          ],
          "name": "stdout"
        }
      ]
    }
  ]
}